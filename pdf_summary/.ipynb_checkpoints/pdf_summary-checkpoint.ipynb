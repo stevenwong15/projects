{
 "cells": [
  {
   "cell_type": "code",
   "execution_count": 1,
   "id": "aba97a3f-4e91-4660-b74b-037ddb0d1d77",
   "metadata": {},
   "outputs": [],
   "source": [
    "from langchain_openai import ChatOpenAI\n",
    "from langchain.document_loaders import PyPDFLoader\n",
    "from langchain.text_splitter import RecursiveCharacterTextSplitter\n",
    "from langchain_openai import OpenAIEmbeddings\n",
    "from langchain.vectorstores import DocArrayInMemorySearch\n",
    "from langchain_core.prompts import PromptTemplate\n",
    "from langchain.chains import create_retrieval_chain\n",
    "from langchain.chains.combine_documents import create_stuff_documents_chain"
   ]
  },
  {
   "cell_type": "code",
   "execution_count": 2,
   "id": "c0d7beb7-c442-4062-853f-e072a5385a91",
   "metadata": {},
   "outputs": [
    {
     "name": "stderr",
     "output_type": "stream",
     "text": [
      "/Library/Frameworks/Python.framework/Versions/3.12/lib/python3.12/site-packages/pydantic/_migration.py:283: UserWarning: `pydantic.error_wrappers:ValidationError` has been moved to `pydantic:ValidationError`.\n",
      "  warnings.warn(f'`{import_path}` has been moved to `{new_location}`.')\n"
     ]
    }
   ],
   "source": [
    "# load document\n",
    "pdf = PyPDFLoader(\"Bridgewater-Associates-Ray-Dalio-Principles.pdf\").load()\n",
    "# split document into chunks\n",
    "text_splitter = RecursiveCharacterTextSplitter(chunk_size=1000, chunk_overlap=100)\n",
    "pdf_split = text_splitter.split_documents(pdf)\n",
    "# store chunks\n",
    "embeddings = OpenAIEmbeddings()\n",
    "vector_db = DocArrayInMemorySearch.from_documents(pdf_split, embeddings)\n",
    "# retrieve most relevant chunks\n",
    "vector_db_retriever = vector_db.as_retriever(search_type=\"similarity\", search_kwargs={\"k\": 3})"
   ]
  },
  {
   "cell_type": "code",
   "execution_count": 5,
   "id": "f218c759-3cf7-4b22-b3bd-b8b102f24161",
   "metadata": {},
   "outputs": [
    {
     "data": {
      "text/plain": [
       "{'input': 'what is the most meaningful passage in this text?',\n",
       " 'context': [Document(metadata={'source': 'Bridgewater-Associates-Ray-Dalio-Principles.pdf', 'page': 2}, page_content='Introduction'),\n",
       "  Document(metadata={'source': 'Bridgewater-Associates-Ray-Dalio-Principles.pdf', 'page': 8}, page_content='Part 2:  \\nMy Most Fundamental Life Principles'),\n",
       "  Document(metadata={'source': 'Bridgewater-Associates-Ray-Dalio-Principles.pdf', 'page': 0}, page_content='beginning of Part 3 (through the Summary and Table of Principles) which will give you \\nnearly the whole picture. It’s only about 55 pages of a normal size book.\\nAbove all else, I want you to think for yourself—to decide 1) what you want, 2) what is \\ntrue, and 3) what to do about it. I want you to do that in a clear-headed, thoughtful way, \\nso that you get what you want. I wrote this book to help you do that. I am going to ask \\nonly two things of you—1) that you be open-minded and 2) that you honestly answer some \\nquestions about what you want, what is true, and what you want to do about it. If you \\ndo these things, I believe that you will get a lot out of this book. If you can’t do these \\nthings, you should reflect on why that is, because you probably have discovered one of \\nyour greatest impediments to getting what you want out of life.\\nCopyright © 2011 Ray Dalio')],\n",
       " 'answer': \"The most meaningful passage in this text is the emphasis on the importance of thinking for oneself, specifically the need to determine what one wants, what is true, and what actions to take. This highlights the core message of the book: that personal clarity and open-mindedness are essential for achieving one's goals and overcoming obstacles in life. By encouraging readers to engage in self-reflection and honest inquiry, the author aims to empower them to take control of their own lives.\"}"
      ]
     },
     "execution_count": 5,
     "metadata": {},
     "output_type": "execute_result"
    }
   ],
   "source": [
    "# select llm\n",
    "llm = ChatOpenAI(temperature=0.0, model=\"gpt-4o-mini\")\n",
    "\n",
    "# build prompt\n",
    "prompt = PromptTemplate(\n",
    "    input_variables=[\"context\", \"input\"],\n",
    "    template=\"\"\"\n",
    "    Use this context to answer the following question using at most 3 sentences: {context}\n",
    "    Question: {input}\n",
    "    \"\"\")\n",
    "\n",
    "# chain prompt\n",
    "combine_docs_chain = create_stuff_documents_chain(llm, prompt)\n",
    "chain = create_retrieval_chain(vector_db_retriever, combine_docs_chain)\n",
    "\n",
    "# get result\n",
    "result = chain.invoke({\n",
    "    \"input\": \"what is the most meaningful passage in this text?\"\n",
    "})\n",
    "result"
   ]
  },
  {
   "cell_type": "code",
   "execution_count": 6,
   "id": "4797889b-1993-4608-8c9a-0b7cb453be2a",
   "metadata": {},
   "outputs": [
    {
     "data": {
      "text/plain": [
       "\"The most meaningful passage in this text is the emphasis on the importance of thinking for oneself, specifically the need to determine what one wants, what is true, and what actions to take. This highlights the core message of the book: that personal clarity and open-mindedness are essential for achieving one's goals and overcoming obstacles in life. By encouraging readers to engage in self-reflection and honest inquiry, the author aims to empower them to take control of their own lives.\""
      ]
     },
     "execution_count": 6,
     "metadata": {},
     "output_type": "execute_result"
    }
   ],
   "source": [
    "result['answer']"
   ]
  }
 ],
 "metadata": {
  "kernelspec": {
   "display_name": "Python 3 (ipykernel)",
   "language": "python",
   "name": "python3"
  },
  "language_info": {
   "codemirror_mode": {
    "name": "ipython",
    "version": 3
   },
   "file_extension": ".py",
   "mimetype": "text/x-python",
   "name": "python",
   "nbconvert_exporter": "python",
   "pygments_lexer": "ipython3",
   "version": "3.12.6"
  }
 },
 "nbformat": 4,
 "nbformat_minor": 5
}
